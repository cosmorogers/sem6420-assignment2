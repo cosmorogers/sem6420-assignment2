{
 "metadata": {
  "name": ""
 },
 "nbformat": 3,
 "nbformat_minor": 0,
 "worksheets": [
  {
   "cells": [
    {
     "cell_type": "code",
     "collapsed": false,
     "input": [
      "import pandas as pd\n",
      "import numpy as np\n",
      "from sklearn.tree import DecisionTreeClassifier\n",
      "from sklearn.ensemble import AdaBoostClassifier\n",
      "\n",
      "#Get data\n",
      "df = pd.read_csv('data/train_parkinsons.csv')\n",
      "df_test = pd.read_csv('data/test_parkinsons.csv')\n",
      "\n",
      "#Clean data\n",
      "df = df.drop([\"MDVP_Fhi\",\"MDVP_Jitter_pct\",\"MDVP_Jitter_abs\",\"MDVP_PPQ\",\"Jitter_DDP\",\"MDVP_Shimmer\",\n",
      "              \"MDVP_Shimmer_db\",\"Shimmer_APQ3\",\"Shimmer_APQ5\",\"Shimmer_DDA\",\"NHR\",\"HNR\",\"RPDE\",\"DFA\",\"spread2\",\n",
      "              \"D2\",\"PPE\"], axis=1)\n",
      "df_test = df_test.drop([\"MDVP_Fhi\",\"MDVP_Jitter_pct\",\"MDVP_Jitter_abs\",\"MDVP_PPQ\",\"Jitter_DDP\",\"MDVP_Shimmer\",\n",
      "              \"MDVP_Shimmer_db\",\"Shimmer_APQ3\",\"Shimmer_APQ5\",\"Shimmer_DDA\",\"NHR\",\"HNR\",\"RPDE\",\"DFA\",\"spread2\",\n",
      "              \"D2\",\"PPE\"], axis=1)\n",
      "\n",
      "#Reorganise columns\n",
      "cols = df.columns.tolist()\n",
      "cols = [cols[5]] + cols[0:5]\n",
      "df = df[cols]\n",
      "\n",
      "cols = df_test.columns.tolist()\n",
      "cols = [cols[5]] + cols[0:5]\n",
      "df_test = df_test[cols]\n",
      "\n",
      "train_data = df.values\n",
      "X = train_data[:, 1:]\n",
      "y = train_data[:, 0]\n",
      "\n",
      "rng = np.random.RandomState(1)\n",
      "\n",
      "#Train model\n",
      "model = AdaBoostClassifier(DecisionTreeClassifier(max_depth=4), n_estimators=300, random_state=rng)\n",
      "model.fit(X, y)\n",
      "\n",
      "\n",
      "# Predict!\n",
      "test_data = df_test.values\n",
      "output = model.predict(test_data[:,1:])\n",
      "\n",
      "result = np.c_[test_data[:,0].astype(int), output.astype(int)]\n",
      "\n",
      "df_result = pd.DataFrame(result[:,0:2], columns=['test_id', 'prediction'])\n",
      "df_result.to_csv('results/parkinson.csv', index=False)\n",
      "\n",
      "print(\"done\")"
     ],
     "language": "python",
     "metadata": {},
     "outputs": [
      {
       "output_type": "stream",
       "stream": "stdout",
       "text": [
        "doney\n"
       ]
      }
     ],
     "prompt_number": 20
    },
    {
     "cell_type": "code",
     "collapsed": false,
     "input": [
      "import sklearn\n",
      "sklearn.__version__"
     ],
     "language": "python",
     "metadata": {},
     "outputs": [
      {
       "metadata": {},
       "output_type": "pyout",
       "prompt_number": 22,
       "text": [
        "'0.16.1'"
       ]
      }
     ],
     "prompt_number": 22
    },
    {
     "cell_type": "code",
     "collapsed": false,
     "input": [
      "import platform\n",
      "platform.python_version()\n"
     ],
     "language": "python",
     "metadata": {},
     "outputs": [
      {
       "metadata": {},
       "output_type": "pyout",
       "prompt_number": 23,
       "text": [
        "'2.7.6'"
       ]
      }
     ],
     "prompt_number": 23
    },
    {
     "cell_type": "code",
     "collapsed": false,
     "input": [],
     "language": "python",
     "metadata": {},
     "outputs": []
    }
   ],
   "metadata": {}
  }
 ]
}