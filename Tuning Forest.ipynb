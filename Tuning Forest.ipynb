{
 "metadata": {
  "name": ""
 },
 "nbformat": 3,
 "nbformat_minor": 0,
 "worksheets": [
  {
   "cells": [
    {
     "cell_type": "code",
     "collapsed": false,
     "input": [
      "import pandas as pd\n",
      "import numpy as np\n",
      "\n",
      "df = pd.read_csv('data/train_parkinsons.csv')\n",
      "\n",
      "df = df.drop([\"MDVP_Fhi\",\"MDVP_Jitter_pct\",\"MDVP_Jitter_abs\",\"MDVP_PPQ\",\"Jitter_DDP\",\"MDVP_Shimmer\",\n",
      "              \"MDVP_Shimmer_db\",\"Shimmer_APQ3\",\"Shimmer_APQ5\",\"Shimmer_DDA\",\"NHR\",\"HNR\",\"RPDE\",\"DFA\",\"spread2\",\n",
      "              \"D2\",\"PPE\"], axis=1)\n",
      "\n",
      "cols = df.columns.tolist()\n",
      "print cols\n",
      "cols = [cols[5]] + cols[0:5]\n",
      "df = df[cols]\n",
      "\n",
      "print(df.columns.tolist())\n",
      "\n",
      "\n",
      "# %matplotlib inline: To make matplotlib inline graphics\n",
      "%matplotlib inline \n",
      "import matplotlib.pyplot as plt"
     ],
     "language": "python",
     "metadata": {},
     "outputs": [
      {
       "output_type": "stream",
       "stream": "stdout",
       "text": [
        "['MDVP_Fo', 'MDVP_Flo', 'MDVP_RAP', 'MDVP_APQ', 'spread1', 'status']\n",
        "['status', 'MDVP_Fo', 'MDVP_Flo', 'MDVP_RAP', 'MDVP_APQ', 'spread1']\n"
       ]
      }
     ],
     "prompt_number": 1
    },
    {
     "cell_type": "code",
     "collapsed": false,
     "input": [
      "from sklearn.ensemble import RandomForestClassifier\n",
      "from sklearn.grid_search import GridSearchCV\n",
      "from sklearn.cross_validation import KFold\n",
      "from sklearn.ensemble import RandomForestClassifier\n",
      "from sklearn import svm\n",
      "from sklearn.metrics import roc_curve, auc\n",
      "\n",
      "train_data = df.values\n",
      "X = train_data[:, 2:]\n",
      "y = train_data[:, 0]\n",
      "\n",
      "n = len(df)/2\n",
      "\n",
      "cv = KFold(n=len(train_data), n_folds=5)\n",
      "\n",
      "\n",
      "\n",
      "parameter_grid = {\n",
      "    'n_estimators': [10, 50, 100, 500],\n",
      "    'criterion': ['gini', 'entropy'],\n",
      "    'max_features': [0.5, 1., 'auto'],\n",
      "    'max_depth': [10., 5., None]\n",
      "}\n",
      "\n",
      "grid_search = GridSearchCV(RandomForestClassifier(), parameter_grid,\n",
      "                            cv=5, verbose=1)\n",
      "\n",
      "grid_search.fit(X, y)\n",
      "\n",
      "sorted(grid_search.grid_scores_, key=lambda x: x.mean_validation_score)\n",
      "print(grid_search.best_score_)\n",
      "grid_search.best_params_"
     ],
     "language": "python",
     "metadata": {},
     "outputs": [
      {
       "output_type": "stream",
       "stream": "stderr",
       "text": [
        "[Parallel(n_jobs=1)]: Done   1 jobs       | elapsed:    0.0s\n",
        "[Parallel(n_jobs=1)]: Done  50 jobs       | elapsed:    5.3s\n"
       ]
      },
      {
       "output_type": "stream",
       "stream": "stderr",
       "text": [
        "[Parallel(n_jobs=1)]: Done 200 jobs       | elapsed:   25.5s\n",
        "[Parallel(n_jobs=1)]: Done 360 out of 360 | elapsed:   49.5s finished\n"
       ]
      },
      {
       "output_type": "stream",
       "stream": "stdout",
       "text": [
        "Fitting 5 folds for each of 72 candidates, totalling 360 fits\n",
        "0.897142857143"
       ]
      },
      {
       "output_type": "stream",
       "stream": "stdout",
       "text": [
        "\n"
       ]
      },
      {
       "metadata": {},
       "output_type": "pyout",
       "prompt_number": 16,
       "text": [
        "{'criterion': 'gini',\n",
        " 'max_depth': None,\n",
        " 'max_features': 0.5,\n",
        " 'n_estimators': 50}"
       ]
      }
     ],
     "prompt_number": 16
    },
    {
     "cell_type": "code",
     "collapsed": false,
     "input": [
      "mean_acc = 0.0\n",
      "mean_auc = 0.0\n",
      "all_tpr = []\n",
      "all_acc = []\n",
      "all_auc = []\n",
      "i=0\n",
      "\n",
      "plt.figure(figsize=(8,8))\n",
      "\n",
      "\n",
      "for training_set, test_set in cv:\n",
      "    X_train = X[training_set]\n",
      "    y_train = y[training_set]\n",
      "    X_test = X[test_set]\n",
      "    y_test = y[test_set]\n",
      "    \n",
      "    model = RandomForestClassifier(criterion='gini', max_depth=None, max_features=0.5, n_estimators=50)\n",
      "    model.fit(X_train, y_train)\n",
      "    y_prediction = model.predict(X_test)    \n",
      "    \n",
      "    # Get probability output from the model\n",
      "    y_prob = model.predict_proba(X_test)\n",
      "    acc = np.sum(y_test == y_prediction)*1./len(y_test)\n",
      "    # Compute ROC curve and area the curve\n",
      "    fpr, tpr, thresholds = roc_curve(y_test, y_prob[:, 1])\n",
      "    roc_auc = auc(fpr, tpr)\n",
      "    plt.plot(fpr, tpr, lw=1, label='ROC fold %d (area = %0.2f)' % (i, roc_auc))    \n",
      "    all_acc.append(acc)\n",
      "    all_auc.append(roc_auc)\n",
      "    \n",
      "plt.plot([0, 1], [0, 1], '--', color=(0.6, 0.6, 0.6))#, label='Luck')\n",
      "plt.xlim([-0.05, 1.05])\n",
      "plt.ylim([-0.05, 1.05])\n",
      "plt.xlabel('False Positive Rate')\n",
      "plt.ylabel('True Positive Rate')\n",
      "plt.title('ROC Random Forest (Tuned) (Dataset B)')\n",
      "plt.legend(loc=\"lower right\")\n",
      "plt.show()\n",
      "\n",
      "all_acc=np.asarray(all_acc)\n",
      "all_auc=np.asarray(all_auc)\n",
      "print(all_acc)\n",
      "# print 95% C.I. for both accuracy and AUC based on CV\n",
      "print(\"Mean Accuracy: %0.3f (+/- %0.3f)\" % (all_acc.mean(), all_acc.std() * 1.96))\n",
      "print(all_auc)\n",
      "print(\"Mean AUC: %0.3f (+/- %0.3f)\" % (all_auc.mean(), all_auc.std() * 1.96))"
     ],
     "language": "python",
     "metadata": {},
     "outputs": [
      {
       "metadata": {},
       "output_type": "display_data",
       "png": "[encoded data removed]",
       "text": [
        "<matplotlib.figure.Figure at 0x7f6763f04750>"
       ]
      },
      {
       "output_type": "stream",
       "stream": "stdout",
       "text": [
        "[ 0.88571429  0.82857143  0.88571429  0.88571429  0.91428571]\n",
        "Mean Accuracy: 0.880 (+/- 0.055)\n",
        "[ 0.95833333  0.85080645  0.9493007   0.96527778  0.89367816]\n",
        "Mean AUC: 0.923 (+/- 0.087)\n"
       ]
      }
     ],
     "prompt_number": 39
    },
    {
     "cell_type": "code",
     "collapsed": false,
     "input": [],
     "language": "python",
     "metadata": {},
     "outputs": [],
     "prompt_number": 31
    },
    {
     "cell_type": "code",
     "collapsed": false,
     "input": [],
     "language": "python",
     "metadata": {},
     "outputs": []
    }
   ],
   "metadata": {}
  }
 ]
}